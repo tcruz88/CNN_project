{
  "nbformat": 4,
  "nbformat_minor": 0,
  "metadata": {
    "colab": {
      "name": "CNN.ipynb",
      "provenance": [],
      "collapsed_sections": [],
      "toc_visible": true,
      "authorship_tag": "ABX9TyMdB3FpD1UvP31X4JQocLyn",
      "include_colab_link": true
    },
    "kernelspec": {
      "name": "python3",
      "display_name": "Python 3"
    }
  },
  "cells": [
    {
      "cell_type": "markdown",
      "metadata": {
        "id": "view-in-github",
        "colab_type": "text"
      },
      "source": [
        "<a href=\"https://colab.research.google.com/github/tcruz88/CNN_project/blob/master/CNN.ipynb\" target=\"_parent\"><img src=\"https://colab.research.google.com/assets/colab-badge.svg\" alt=\"Open In Colab\"/></a>"
      ]
    },
    {
      "cell_type": "code",
      "metadata": {
        "id": "vac38KndUvrm",
        "colab": {
          "base_uri": "https://localhost:8080/"
        },
        "outputId": "03ddeee9-3610-4c7d-dc0b-84ac5279d304"
      },
      "source": [
        "!unzip pedestrian.zip\r\n",
        "!unzip road.zip"
      ],
      "execution_count": 1,
      "outputs": [
        {
          "output_type": "stream",
          "text": [
            "Archive:  pedestrian.zip\n",
            "  inflating: pedestrian/download (1).jpg  \n",
            "  inflating: pedestrian/download (18).jpg  \n",
            "  inflating: pedestrian/download (2).jpg  \n",
            "  inflating: pedestrian/download (3).jpg  \n",
            "  inflating: pedestrian/download (4).jpg  \n",
            "  inflating: pedestrian/download (5).jpg  \n",
            "  inflating: pedestrian/download (6).jpg  \n",
            "  inflating: pedestrian/download (7).jpg  \n",
            "  inflating: pedestrian/download (8).jpg  \n",
            "  inflating: pedestrian/download (9).jpg  \n",
            "  inflating: pedestrian/download.jpg  \n",
            "  inflating: pedestrian/images (1).jpg  \n",
            "  inflating: pedestrian/images (10).jpg  \n",
            "  inflating: pedestrian/images (11).jpg  \n",
            "  inflating: pedestrian/images (12).jpg  \n",
            "  inflating: pedestrian/images (13).jpg  \n",
            "  inflating: pedestrian/images (14).jpg  \n",
            "  inflating: pedestrian/images (15).jpg  \n",
            "  inflating: pedestrian/images (16).jpg  \n",
            "  inflating: pedestrian/images (17).jpg  \n",
            "  inflating: pedestrian/images (18).jpg  \n",
            "  inflating: pedestrian/images (19).jpg  \n",
            "  inflating: pedestrian/images (2).jpg  \n",
            "  inflating: pedestrian/images (20).jpg  \n",
            "  inflating: pedestrian/images (21).jpg  \n",
            " extracting: pedestrian/images (22).jpg  \n",
            "  inflating: pedestrian/images (23).jpg  \n",
            "  inflating: pedestrian/images (24).jpg  \n",
            "  inflating: pedestrian/images (25).jpg  \n",
            "  inflating: pedestrian/images (26).jpg  \n",
            "  inflating: pedestrian/images (27).jpg  \n",
            "  inflating: pedestrian/images (28).jpg  \n",
            "  inflating: pedestrian/images (29).jpg  \n",
            "  inflating: pedestrian/images (3).jpg  \n",
            "  inflating: pedestrian/images (30).jpg  \n",
            "  inflating: pedestrian/images (31).jpg  \n",
            "  inflating: pedestrian/images (32).jpg  \n",
            "  inflating: pedestrian/images (33).jpg  \n",
            "  inflating: pedestrian/images (34).jpg  \n",
            "  inflating: pedestrian/images (35).jpg  \n",
            "  inflating: pedestrian/images (36).jpg  \n",
            "  inflating: pedestrian/images (37).jpg  \n",
            "  inflating: pedestrian/images (38).jpg  \n",
            "  inflating: pedestrian/images (4).jpg  \n",
            "  inflating: pedestrian/images (5).jpg  \n",
            "  inflating: pedestrian/images (6).jpg  \n",
            "  inflating: pedestrian/images (7).jpg  \n",
            "  inflating: pedestrian/images (8).jpg  \n",
            "  inflating: pedestrian/images (9).jpg  \n",
            "  inflating: pedestrian/images.jpg   \n",
            "Archive:  road.zip\n",
            "  inflating: road/download (1).jpg   \n",
            "  inflating: road/download (10).jpg  \n",
            "  inflating: road/download (11).jpg  \n",
            "  inflating: road/download (12).jpg  \n",
            "  inflating: road/download (13).jpg  \n",
            "  inflating: road/download (14).jpg  \n",
            "  inflating: road/download (15).jpg  \n",
            "  inflating: road/download (16).jpg  \n",
            "  inflating: road/download (17).jpg  \n",
            "  inflating: road/download (2).jpg   \n",
            "  inflating: road/download (3).jpg   \n",
            "  inflating: road/download (4).jpg   \n",
            "  inflating: road/download (5).jpg   \n",
            "  inflating: road/download (6).jpg   \n",
            "  inflating: road/download (7).jpg   \n",
            "  inflating: road/download (8).jpg   \n",
            "  inflating: road/download (9).jpg   \n",
            "  inflating: road/download.jpg       \n",
            "  inflating: road/images (1).jpg     \n",
            "  inflating: road/images (10).jpg    \n",
            "  inflating: road/images (11).jpg    \n",
            "  inflating: road/images (12).jpg    \n",
            "  inflating: road/images (13).jpg    \n",
            "  inflating: road/images (14).jpg    \n",
            "  inflating: road/images (15).jpg    \n",
            "  inflating: road/images (16).jpg    \n",
            "  inflating: road/images (17).jpg    \n",
            "  inflating: road/images (18).jpg    \n",
            "  inflating: road/images (19).jpg    \n",
            "  inflating: road/images (2).jpg     \n",
            "  inflating: road/images (20).jpg    \n",
            "  inflating: road/images (21).jpg    \n",
            "  inflating: road/images (22).jpg    \n",
            "  inflating: road/images (23).jpg    \n",
            "  inflating: road/images (24).jpg    \n",
            "  inflating: road/images (25).jpg    \n",
            "  inflating: road/images (26).jpg    \n",
            "  inflating: road/images (27).jpg    \n",
            "  inflating: road/images (28).jpg    \n",
            "  inflating: road/images (29).jpg    \n",
            "  inflating: road/images (3).jpg     \n",
            "  inflating: road/images (30).jpg    \n",
            "  inflating: road/images (31).jpg    \n",
            "  inflating: road/images (32).jpg    \n",
            "  inflating: road/images (4).jpg     \n",
            "  inflating: road/images (5).jpg     \n",
            "  inflating: road/images (6).jpg     \n",
            "  inflating: road/images (7).jpg     \n",
            "  inflating: road/images (8).jpg     \n",
            "  inflating: road/images (9).jpg     \n"
          ],
          "name": "stdout"
        }
      ]
    },
    {
      "cell_type": "markdown",
      "metadata": {
        "id": "vJeQn348WFnK"
      },
      "source": [
        "# New Section"
      ]
    },
    {
      "cell_type": "code",
      "metadata": {
        "id": "p9CfJCLOUZjb"
      },
      "source": [
        "from PIL import Image\r\n",
        "import numpy as np\r\n",
        "import matplotlib.pyplot as plt\r\n",
        "from keras.utils import to_categorical"
      ],
      "execution_count": 2,
      "outputs": []
    }
  ]
}