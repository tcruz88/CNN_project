{
  "nbformat": 4,
  "nbformat_minor": 0,
  "metadata": {
    "colab": {
      "name": "CNN.ipynb",
      "provenance": [],
      "collapsed_sections": [],
      "toc_visible": true,
      "authorship_tag": "ABX9TyPQxafuFvGR5JSPsNerXhe1",
      "include_colab_link": true
    },
    "kernelspec": {
      "display_name": "Python 3",
      "name": "python3"
    }
  },
  "cells": [
    {
      "cell_type": "markdown",
      "metadata": {
        "id": "view-in-github",
        "colab_type": "text"
      },
      "source": [
        "<a href=\"https://colab.research.google.com/github/tcruz88/CNN_project/blob/master/CNN.ipynb\" target=\"_parent\"><img src=\"https://colab.research.google.com/assets/colab-badge.svg\" alt=\"Open In Colab\"/></a>"
      ]
    },
    {
      "cell_type": "markdown",
      "metadata": {
        "id": "vJeQn348WFnK"
      },
      "source": [
        "# New Section"
      ]
    },
    {
      "cell_type": "code",
      "metadata": {
        "id": "CVS2xiwDF1Iz"
      },
      "source": [
        "!unzip cats.zip\r\n",
        "!unzip dogs.zip"
      ],
      "execution_count": null,
      "outputs": []
    },
    {
      "cell_type": "code",
      "metadata": {
        "id": "p9CfJCLOUZjb"
      },
      "source": [
        "from PIL import Image\r\n",
        "import numpy as np\r\n",
        "import matplotlib.pyplot as plt\r\n",
        "from keras.utils import to_categorical\r\n",
        "import os\r\n",
        "import cv2"
      ],
      "execution_count": 2,
      "outputs": []
    },
    {
      "cell_type": "code",
      "metadata": {
        "colab": {
          "base_uri": "https://localhost:8080/",
          "height": 1000
        },
        "id": "eLTI-LROXL-j",
        "outputId": "de6a377a-be94-4191-efa7-2417654e9360"
      },
      "source": [
        "#image data shape (n, width, height, rgb value)\r\n",
        "\r\n",
        "X = [] # Images\r\n",
        "Y = [] # Categories\r\n",
        "\r\n",
        "folder_pedestrian = 'cats'\r\n",
        "folder_road = 'dogs'\r\n",
        "\r\n",
        "name_encode = {\"pedestrian\":0, \"road\":1}\r\n",
        "\r\n",
        "def images_to_array(folder, name):\r\n",
        "    for image in os.listdir(folder):\r\n",
        "        loaded_image = Image.open(os.path.join(folder, image))  #loading image\r\n",
        "        resized_image = Image.Image.resize(loaded_image, [100,100]) #resize image to 100 x 100 px\r\n",
        "        image_array = np.array(resized_image) # transform image into an array\r\n",
        "        X.append(image_array) # append images to array X\r\n",
        "        Y.append(name_encode[name]) #append category\r\n",
        "\r\n",
        "        # image_flipped = cv2.flip(image_array,1) #create copies of images flipped horizontally to improve model accuracy\r\n",
        "        # X.append(image_flipped)\r\n",
        "        # Y.append(name_encode[name])\r\n",
        "\r\n",
        "        # image_blurred = cv2.blur(image_array,(2,2)) #create copies of images blurred to improve accuracy\r\n",
        "        # X.append(image_blurred)\r\n",
        "        # Y.append(name_encode[name])\r\n",
        "\r\n",
        "        # image_flipped_blurred = cv2.blur(image_flipped,(2,2)) #create copies of images flipped horizontally & blurred to improve accuracy\r\n",
        "        # X.append(image_flipped_blurred)\r\n",
        "        # Y.append(name_encode[name])\r\n",
        "\r\n",
        "def show_image(index):\r\n",
        "    plt.imshow(np.uint8(X[index])) #plt.imshow(X[index])\r\n",
        "    plt.show()\r\n",
        "    print(Y[index])\r\n",
        "\r\n",
        "images_to_array(folder_pedestrian, \"pedestrian\")\r\n",
        "images_to_array(folder_road, \"road\")\r\n",
        "\r\n",
        "Y = to_categorical(Y, num_classes=2)\r\n",
        "X = (np.array(X) - 127.5) / 127.5 #normalization of data\r\n",
        "\r\n",
        "show_image(0)\r\n",
        "print(X[0])"
      ],
      "execution_count": 16,
      "outputs": [
        {
          "output_type": "stream",
          "text": [
            "Clipping input data to the valid range for imshow with RGB data ([0..1] for floats or [0..255] for integers).\n"
          ],
          "name": "stderr"
        },
        {
          "output_type": "display_data",
          "data": {
            "image/png": "[encoded data removed]",
            "text/plain": [
              "<Figure size 432x288 with 1 Axes>"
            ]
          },
          "metadata": {
            "tags": [],
            "needs_background": "light"
          }
        },
        {
          "output_type": "stream",
          "text": [
            "[1. 0.]\n",
            "[[[-0.67058824 -0.67058824 -0.65490196]\n",
            "  [-0.67058824 -0.67058824 -0.65490196]\n",
            "  [-0.67058824 -0.67058824 -0.65490196]\n",
            "  ...\n",
            "  [-0.60784314 -0.65490196 -0.62352941]\n",
            "  [-0.6        -0.64705882 -0.61568627]\n",
            "  [-0.6        -0.64705882 -0.61568627]]\n",
            "\n",
            " [[-0.67058824 -0.67058824 -0.65490196]\n",
            "  [-0.67058824 -0.67058824 -0.65490196]\n",
            "  [-0.67058824 -0.67058824 -0.65490196]\n",
            "  ...\n",
            "  [-0.63921569 -0.68627451 -0.65490196]\n",
            "  [-0.63921569 -0.68627451 -0.65490196]\n",
            "  [-0.63921569 -0.68627451 -0.65490196]]\n",
            "\n",
            " [[-0.67058824 -0.67058824 -0.65490196]\n",
            "  [-0.67058824 -0.67058824 -0.65490196]\n",
            "  [-0.67058824 -0.67058824 -0.65490196]\n",
            "  ...\n",
            "  [-0.67843137 -0.7254902  -0.69411765]\n",
            "  [-0.68627451 -0.73333333 -0.70196078]\n",
            "  [-0.69411765 -0.74117647 -0.70980392]]\n",
            "\n",
            " ...\n",
            "\n",
            " [[ 0.21568627  0.28627451  0.27843137]\n",
            "  [ 0.18431373  0.25490196  0.24705882]\n",
            "  [ 0.16078431  0.23137255  0.22352941]\n",
            "  ...\n",
            "  [-0.6        -0.61568627 -0.56078431]\n",
            "  [-0.49019608 -0.5372549  -0.48235294]\n",
            "  [-0.41176471 -0.49803922 -0.42745098]]\n",
            "\n",
            " [[ 0.00392157  0.0745098   0.06666667]\n",
            "  [-0.14509804 -0.0745098  -0.08235294]\n",
            "  [-0.18431373 -0.11372549 -0.12156863]\n",
            "  ...\n",
            "  [-0.23921569 -0.25490196 -0.2       ]\n",
            "  [-0.23137255 -0.27843137 -0.21568627]\n",
            "  [-0.21568627 -0.28627451 -0.21568627]]\n",
            "\n",
            " [[-0.15294118 -0.08235294 -0.09019608]\n",
            "  [-0.33333333 -0.2627451  -0.27058824]\n",
            "  [-0.34117647 -0.27058824 -0.27843137]\n",
            "  ...\n",
            "  [ 0.35686275  0.34117647  0.39607843]\n",
            "  [ 0.51372549  0.46666667  0.52941176]\n",
            "  [ 0.64705882  0.57647059  0.64705882]]]\n"
          ],
          "name": "stdout"
        }
      ]
    },
    {
      "cell_type": "code",
      "metadata": {
        "colab": {
          "base_uri": "https://localhost:8080/"
        },
        "id": "_fVgWisEoc5_",
        "outputId": "9647251a-8a37-410d-94e3-be64fbf56efe"
      },
      "source": [
        "from keras.layers import Activation, Conv2D, Dense, Flatten, MaxPool2D, BatchNormalization, Dropout\r\n",
        "from keras.models import Sequential\r\n",
        "\r\n",
        "model = Sequential()\r\n",
        "model.add(Conv2D(32, (5,5), padding='same',activation='relu', input_shape=(100,100,3) ))\r\n",
        "model.add(BatchNormalization())\r\n",
        "model.add(MaxPool2D(pool_size=(2,2)))\r\n",
        "model.add(Conv2D(100, (5,5), padding='same',activation='relu'))\r\n",
        "model.add(BatchNormalization())\r\n",
        "model.add(Dropout(rate=0.5)) # muting half of trainable parameters\r\n",
        "model.add(MaxPool2D(pool_size=(2,2)))\r\n",
        "model.add(Conv2D(100, (5,5), padding='same',activation='relu'))\r\n",
        "model.add(BatchNormalization())\r\n",
        "model.add(Dropout(rate=0.5)) \r\n",
        "model.add(MaxPool2D(pool_size=(2,2)))\r\n",
        "model.add(Flatten())\r\n",
        "model.add(Dense(124))\r\n",
        "model.add(Activation('relu'))\r\n",
        "model.add(Dense(2))\r\n",
        "model.add(Activation('sigmoid'))\r\n",
        "model.summary()"
      ],
      "execution_count": 4,
      "outputs": [
        {
          "output_type": "stream",
          "text": [
            "Model: \"sequential\"\n",
            "_________________________________________________________________\n",
            "Layer (type)                 Output Shape              Param #   \n",
            "=================================================================\n",
            "conv2d (Conv2D)              (None, 100, 100, 32)      2432      \n",
            "_________________________________________________________________\n",
            "batch_normalization (BatchNo (None, 100, 100, 32)      128       \n",
            "_________________________________________________________________\n",
            "max_pooling2d (MaxPooling2D) (None, 50, 50, 32)        0         \n",
            "_________________________________________________________________\n",
            "conv2d_1 (Conv2D)            (None, 50, 50, 100)       80100     \n",
            "_________________________________________________________________\n",
            "batch_normalization_1 (Batch (None, 50, 50, 100)       400       \n",
            "_________________________________________________________________\n",
            "dropout (Dropout)            (None, 50, 50, 100)       0         \n",
            "_________________________________________________________________\n",
            "max_pooling2d_1 (MaxPooling2 (None, 25, 25, 100)       0         \n",
            "_________________________________________________________________\n",
            "conv2d_2 (Conv2D)            (None, 25, 25, 100)       250100    \n",
            "_________________________________________________________________\n",
            "batch_normalization_2 (Batch (None, 25, 25, 100)       400       \n",
            "_________________________________________________________________\n",
            "dropout_1 (Dropout)          (None, 25, 25, 100)       0         \n",
            "_________________________________________________________________\n",
            "max_pooling2d_2 (MaxPooling2 (None, 12, 12, 100)       0         \n",
            "_________________________________________________________________\n",
            "flatten (Flatten)            (None, 14400)             0         \n",
            "_________________________________________________________________\n",
            "dense (Dense)                (None, 124)               1785724   \n",
            "_________________________________________________________________\n",
            "activation (Activation)      (None, 124)               0         \n",
            "_________________________________________________________________\n",
            "dense_1 (Dense)              (None, 2)                 250       \n",
            "_________________________________________________________________\n",
            "activation_1 (Activation)    (None, 2)                 0         \n",
            "=================================================================\n",
            "Total params: 2,119,534\n",
            "Trainable params: 2,119,070\n",
            "Non-trainable params: 464\n",
            "_________________________________________________________________\n"
          ],
          "name": "stdout"
        }
      ]
    },
    {
      "cell_type": "code",
      "metadata": {
        "colab": {
          "base_uri": "https://localhost:8080/"
        },
        "id": "fSzb_yjF-JO7",
        "outputId": "67b2312b-2540-424d-cfeb-95b39a61bd54"
      },
      "source": [
        "from sklearn.model_selection import train_test_split\r\n",
        "X_train, X_test, y_train, y_test = train_test_split(X,Y,test_size=0.1)\r\n",
        "\r\n",
        "print(X[10])"
      ],
      "execution_count": 5,
      "outputs": [
        {
          "output_type": "stream",
          "text": [
            "[[[ 0.02745098 -0.19215686 -0.56862745]\n",
            "  [ 0.00392157 -0.21568627 -0.59215686]\n",
            "  [-0.0745098  -0.29411765 -0.67058824]\n",
            "  ...\n",
            "  [-0.34901961 -0.49803922 -0.63921569]\n",
            "  [-0.39607843 -0.52941176 -0.6627451 ]\n",
            "  [-0.41960784 -0.52156863 -0.69411765]]\n",
            "\n",
            " [[ 0.04313725 -0.16862745 -0.58431373]\n",
            "  [ 0.01176471 -0.20784314 -0.61568627]\n",
            "  [-0.0745098  -0.28627451 -0.70196078]\n",
            "  ...\n",
            "  [-0.33333333 -0.49803922 -0.68627451]\n",
            "  [-0.39607843 -0.52941176 -0.69411765]\n",
            "  [-0.41960784 -0.5372549  -0.69411765]]\n",
            "\n",
            " [[-0.02745098 -0.23921569 -0.67058824]\n",
            "  [-0.05098039 -0.2627451  -0.68627451]\n",
            "  [-0.06666667 -0.27843137 -0.70196078]\n",
            "  ...\n",
            "  [-0.29411765 -0.45882353 -0.7254902 ]\n",
            "  [-0.34117647 -0.49019608 -0.70196078]\n",
            "  [-0.38823529 -0.55294118 -0.68627451]]\n",
            "\n",
            " ...\n",
            "\n",
            " [[ 0.57647059  0.46666667  0.23921569]\n",
            "  [ 0.63137255  0.52156863  0.29411765]\n",
            "  [ 0.61568627  0.50588235  0.27843137]\n",
            "  ...\n",
            "  [ 0.71764706  0.6         0.41960784]\n",
            "  [ 0.65490196  0.60784314  0.41960784]\n",
            "  [ 0.65490196  0.61568627  0.42745098]]\n",
            "\n",
            " [[ 0.6         0.49019608  0.2627451 ]\n",
            "  [ 0.63137255  0.52156863  0.29411765]\n",
            "  [ 0.57647059  0.46666667  0.23921569]\n",
            "  ...\n",
            "  [ 0.74901961  0.63137255  0.44313725]\n",
            "  [ 0.68627451  0.57647059  0.42745098]\n",
            "  [ 0.67058824  0.55294118  0.41176471]]\n",
            "\n",
            " [[ 0.55294118  0.44313725  0.21568627]\n",
            "  [ 0.48235294  0.37254902  0.14509804]\n",
            "  [ 0.49803922  0.38823529  0.16078431]\n",
            "  ...\n",
            "  [ 0.71764706  0.65490196  0.43529412]\n",
            "  [ 0.73333333  0.67843137  0.49803922]\n",
            "  [ 0.74117647  0.68627451  0.50588235]]]\n"
          ],
          "name": "stdout"
        }
      ]
    },
    {
      "cell_type": "code",
      "metadata": {
        "colab": {
          "base_uri": "https://localhost:8080/",
          "height": 659
        },
        "id": "XnZGzZwfAKfq",
        "outputId": "287263d3-1253-46f6-e95d-7cf30c3ce4cf"
      },
      "source": [
        "from keras.optimizers import Adam\r\n",
        "\r\n",
        "optimizer = Adam(lr=0.001)\r\n",
        "model.compile(optimizer=optimizer, loss='binary_crossentropy', metrics=['acc'])\r\n",
        "h = model.fit(X_train, y_train, batch_size=128, epochs=10, validation_data=(X_test,y_test))\r\n",
        "model.save('catdog_CNN.h5')\r\n",
        "\r\n",
        "plt.plot(h.history['acc'])\r\n",
        "plt.plot(h.history['val_acc'])\r\n",
        "plt.title(\"CNN Accuracy: Train and Test\")\r\n",
        "plt.xlabel('Epoch Number')\r\n",
        "plt.ylabel('Accuracy')"
      ],
      "execution_count": 6,
      "outputs": [
        {
          "output_type": "stream",
          "text": [
            "Epoch 1/10\n",
            "57/57 [==============================] - 431s 8s/step - loss: 2.1309 - acc: 0.5298 - val_loss: 0.6983 - val_acc: 0.5050\n",
            "Epoch 2/10\n",
            "57/57 [==============================] - 429s 8s/step - loss: 0.6529 - acc: 0.6467 - val_loss: 0.6932 - val_acc: 0.5025\n",
            "Epoch 3/10\n",
            "57/57 [==============================] - 428s 8s/step - loss: 0.5991 - acc: 0.6875 - val_loss: 1.4019 - val_acc: 0.5163\n",
            "Epoch 4/10\n",
            "57/57 [==============================] - 427s 7s/step - loss: 0.5213 - acc: 0.7280 - val_loss: 1.2807 - val_acc: 0.5400\n",
            "Epoch 5/10\n",
            "57/57 [==============================] - 427s 7s/step - loss: 0.4675 - acc: 0.7717 - val_loss: 2.6756 - val_acc: 0.5150\n",
            "Epoch 6/10\n",
            "57/57 [==============================] - 427s 7s/step - loss: 0.4372 - acc: 0.7958 - val_loss: 2.8360 - val_acc: 0.5275\n",
            "Epoch 7/10\n",
            "57/57 [==============================] - 427s 7s/step - loss: 0.3739 - acc: 0.8288 - val_loss: 1.9135 - val_acc: 0.6037\n",
            "Epoch 8/10\n",
            "57/57 [==============================] - 427s 7s/step - loss: 0.3386 - acc: 0.8469 - val_loss: 3.4319 - val_acc: 0.5425\n",
            "Epoch 9/10\n",
            "57/57 [==============================] - 437s 8s/step - loss: 0.2912 - acc: 0.8753 - val_loss: 2.2539 - val_acc: 0.6250\n",
            "Epoch 10/10\n",
            "57/57 [==============================] - 435s 8s/step - loss: 0.2624 - acc: 0.8883 - val_loss: 2.8725 - val_acc: 0.6087\n"
          ],
          "name": "stdout"
        },
        {
          "output_type": "execute_result",
          "data": {
            "text/plain": [
              "Text(0, 0.5, 'Accuracy')"
            ]
          },
          "metadata": {
            "tags": []
          },
          "execution_count": 6
        },
        {
          "output_type": "display_data",
          "data": {
            "image/png": "[encoded data removed]",
            "text/plain": [
              "<Figure size 432x288 with 1 Axes>"
            ]
          },
          "metadata": {
            "tags": [],
            "needs_background": "light"
          }
        }
      ]
    },
    {
      "cell_type": "code",
      "metadata": {
        "colab": {
          "base_uri": "https://localhost:8080/",
          "height": 961
        },
        "id": "RJftlufpAeyc",
        "outputId": "906a34b2-4d97-4704-8fcd-9db11a0f1945"
      },
      "source": [
        "from keras.models import load_model\r\n",
        "\r\n",
        "model = load_model('catdog_CNN.h5')\r\n",
        "\r\n",
        "def prediction(index_number):\r\n",
        "  img = np.array(X[index_number]) \r\n",
        "  img = img.reshape(1,100,100,3) # (n number of images, h, w, rgb)\r\n",
        "  prediction = model.predict_classes(img)\r\n",
        "  if prediction == 0:\r\n",
        "    print('Prediction: CAT')\r\n",
        "  elif prediction == 1:\r\n",
        "    print('Prediction: DOG')\r\n",
        "  else:\r\n",
        "    print('Prediction: Error')\r\n",
        "  plt.imshow(np.uint8(X[index_number]))\r\n",
        "  plt.show\r\n",
        "\r\n",
        "import random\r\n",
        "import time\r\n",
        "\r\n",
        "for i in range(10):\r\n",
        "     rand = random.randrange(0,7999)\r\n",
        "     if rand < 4000:\r\n",
        "        print('Actual: CAT')\r\n",
        "     else:\r\n",
        "        print('Actual: DOG')\r\n",
        "     print(rand)\r\n",
        "     prediction(rand)\r\n",
        "     print('*****************')\r\n",
        "     time.sleep(1) \r\n",
        "\r\n",
        "# Cat: 0 - 3999\r\n",
        "# Dog: 4000 - 7999\r\n",
        "# Pedestrian = cat or 0, Road = dog or 1"
      ],
      "execution_count": 15,
      "outputs": [
        {
          "output_type": "stream",
          "text": [
            "Actual: CAT\n",
            "840\n",
            "Prediction: CAT\n",
            "*****************\n",
            "Actual: CAT\n",
            "3527\n",
            "Prediction: CAT\n",
            "*****************\n",
            "Actual: DOG\n",
            "6732\n",
            "Prediction: CAT\n",
            "*****************\n",
            "Actual: CAT\n",
            "1753\n",
            "Prediction: CAT\n",
            "*****************\n",
            "Actual: DOG\n",
            "5958\n",
            "Prediction: CAT\n",
            "*****************\n",
            "Actual: DOG\n",
            "6831\n",
            "Prediction: CAT\n",
            "*****************\n",
            "Actual: DOG\n",
            "7361\n",
            "Prediction: DOG\n",
            "*****************\n",
            "Actual: DOG\n",
            "6514\n",
            "Prediction: CAT\n",
            "*****************\n",
            "Actual: DOG\n",
            "5120\n",
            "Prediction: CAT\n",
            "*****************\n",
            "Actual: CAT\n",
            "2738\n",
            "Prediction: CAT\n",
            "*****************\n"
          ],
          "name": "stdout"
        },
        {
          "output_type": "display_data",
          "data": {
            "image/png": "[encoded data removed]",
            "text/plain": [
              "<Figure size 432x288 with 1 Axes>"
            ]
          },
          "metadata": {
            "tags": [],
            "needs_background": "light"
          }
        }
      ]
    },
    {
      "cell_type": "code",
      "metadata": {
        "id": "vL1NoFZRwkFz"
      },
      "source": [
        ""
      ],
      "execution_count": 7,
      "outputs": []
    }
  ]
}