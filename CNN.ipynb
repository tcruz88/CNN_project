{
  "nbformat": 4,
  "nbformat_minor": 0,
  "metadata": {
    "colab": {
      "name": "CNN.ipynb",
      "provenance": [],
      "collapsed_sections": [],
      "toc_visible": true,
      "authorship_tag": "ABX9TyMcgctnIBM87gRL3iTcGCTA",
      "include_colab_link": true
    },
    "kernelspec": {
      "name": "python3",
      "display_name": "Python 3"
    }
  },
  "cells": [
    {
      "cell_type": "markdown",
      "metadata": {
        "id": "view-in-github",
        "colab_type": "text"
      },
      "source": [
        "<a href=\"https://colab.research.google.com/github/tcruz88/CNN_project/blob/master/CNN.ipynb\" target=\"_parent\"><img src=\"https://colab.research.google.com/assets/colab-badge.svg\" alt=\"Open In Colab\"/></a>"
      ]
    },
    {
      "cell_type": "markdown",
      "metadata": {
        "id": "vJeQn348WFnK"
      },
      "source": [
        "# New Section"
      ]
    },
    {
      "cell_type": "code",
      "metadata": {
        "colab": {
          "base_uri": "https://localhost:8080/"
        },
        "id": "1zMJrVKFmTpu",
        "outputId": "4ba10ad1-63a6-4559-8042-222bc30a7027"
      },
      "source": [
        "!unzip pedestrian.zip\r\n",
        "!unzip road.zip"
      ],
      "execution_count": 1,
      "outputs": [
        {
          "output_type": "stream",
          "text": [
            "Archive:  pedestrian.zip\n",
            "replace pedestrian/download (1).jpg? [y]es, [n]o, [A]ll, [N]one, [r]ename: A\n",
            "  inflating: pedestrian/download (1).jpg  \n",
            "  inflating: pedestrian/download (18).jpg  \n",
            "  inflating: pedestrian/download (2).jpg  \n",
            "  inflating: pedestrian/download (3).jpg  \n",
            "  inflating: pedestrian/download (4).jpg  \n",
            "  inflating: pedestrian/download (5).jpg  \n",
            "  inflating: pedestrian/download (6).jpg  \n",
            "  inflating: pedestrian/download (7).jpg  \n",
            "  inflating: pedestrian/download (8).jpg  \n",
            "  inflating: pedestrian/download (9).jpg  \n",
            "  inflating: pedestrian/download.jpg  \n",
            "  inflating: pedestrian/images (1).jpg  \n",
            "  inflating: pedestrian/images (10).jpg  \n",
            "  inflating: pedestrian/images (11).jpg  \n",
            "  inflating: pedestrian/images (12).jpg  \n",
            "  inflating: pedestrian/images (13).jpg  \n",
            "  inflating: pedestrian/images (14).jpg  \n",
            "  inflating: pedestrian/images (15).jpg  \n",
            "  inflating: pedestrian/images (16).jpg  \n",
            "  inflating: pedestrian/images (17).jpg  \n",
            "  inflating: pedestrian/images (18).jpg  \n",
            "  inflating: pedestrian/images (19).jpg  \n",
            "  inflating: pedestrian/images (2).jpg  \n",
            "  inflating: pedestrian/images (20).jpg  \n",
            "  inflating: pedestrian/images (21).jpg  \n",
            " extracting: pedestrian/images (22).jpg  \n",
            "  inflating: pedestrian/images (23).jpg  \n",
            "  inflating: pedestrian/images (24).jpg  \n",
            "  inflating: pedestrian/images (25).jpg  \n",
            "  inflating: pedestrian/images (26).jpg  \n",
            "  inflating: pedestrian/images (27).jpg  \n",
            "  inflating: pedestrian/images (28).jpg  \n",
            "  inflating: pedestrian/images (29).jpg  \n",
            "  inflating: pedestrian/images (3).jpg  \n",
            "  inflating: pedestrian/images (30).jpg  \n",
            "  inflating: pedestrian/images (31).jpg  \n",
            "  inflating: pedestrian/images (32).jpg  \n",
            "  inflating: pedestrian/images (33).jpg  \n",
            "  inflating: pedestrian/images (34).jpg  \n",
            "  inflating: pedestrian/images (35).jpg  \n",
            "  inflating: pedestrian/images (36).jpg  \n",
            "  inflating: pedestrian/images (37).jpg  \n",
            "  inflating: pedestrian/images (38).jpg  \n",
            "  inflating: pedestrian/images (4).jpg  \n",
            "  inflating: pedestrian/images (5).jpg  \n",
            "  inflating: pedestrian/images (6).jpg  \n",
            "  inflating: pedestrian/images (7).jpg  \n",
            "  inflating: pedestrian/images (8).jpg  \n",
            "  inflating: pedestrian/images (9).jpg  \n",
            "  inflating: pedestrian/images.jpg   \n",
            "Archive:  road.zip\n",
            "replace road/download (1).jpg? [y]es, [n]o, [A]ll, [N]one, [r]ename: A\n",
            "  inflating: road/download (1).jpg   \n",
            "  inflating: road/download (10).jpg  \n",
            "  inflating: road/download (11).jpg  \n",
            "  inflating: road/download (12).jpg  \n",
            "  inflating: road/download (13).jpg  \n",
            "  inflating: road/download (14).jpg  \n",
            "  inflating: road/download (15).jpg  \n",
            "  inflating: road/download (16).jpg  \n",
            "  inflating: road/download (17).jpg  \n",
            "  inflating: road/download (2).jpg   \n",
            "  inflating: road/download (3).jpg   \n",
            "  inflating: road/download (4).jpg   \n",
            "  inflating: road/download (5).jpg   \n",
            "  inflating: road/download (6).jpg   \n",
            "  inflating: road/download (7).jpg   \n",
            "  inflating: road/download (8).jpg   \n",
            "  inflating: road/download (9).jpg   \n",
            "  inflating: road/download.jpg       \n",
            "  inflating: road/images (1).jpg     \n",
            "  inflating: road/images (10).jpg    \n",
            "  inflating: road/images (11).jpg    \n",
            "  inflating: road/images (12).jpg    \n",
            "  inflating: road/images (13).jpg    \n",
            "  inflating: road/images (14).jpg    \n",
            "  inflating: road/images (15).jpg    \n",
            "  inflating: road/images (16).jpg    \n",
            "  inflating: road/images (17).jpg    \n",
            "  inflating: road/images (18).jpg    \n",
            "  inflating: road/images (19).jpg    \n",
            "  inflating: road/images (2).jpg     \n",
            "  inflating: road/images (20).jpg    \n",
            "  inflating: road/images (21).jpg    \n",
            "  inflating: road/images (22).jpg    \n",
            "  inflating: road/images (23).jpg    \n",
            "  inflating: road/images (24).jpg    \n",
            "  inflating: road/images (25).jpg    \n",
            "  inflating: road/images (26).jpg    \n",
            "  inflating: road/images (27).jpg    \n",
            "  inflating: road/images (28).jpg    \n",
            "  inflating: road/images (29).jpg    \n",
            "  inflating: road/images (3).jpg     \n",
            "  inflating: road/images (30).jpg    \n",
            "  inflating: road/images (31).jpg    \n",
            "  inflating: road/images (32).jpg    \n",
            "  inflating: road/images (4).jpg     \n",
            "  inflating: road/images (5).jpg     \n",
            "  inflating: road/images (6).jpg     \n",
            "  inflating: road/images (7).jpg     \n",
            "  inflating: road/images (8).jpg     \n",
            "  inflating: road/images (9).jpg     \n"
          ],
          "name": "stdout"
        }
      ]
    },
    {
      "cell_type": "code",
      "metadata": {
        "id": "p9CfJCLOUZjb"
      },
      "source": [
        "from PIL import Image\r\n",
        "import numpy as np\r\n",
        "import matplotlib.pyplot as plt\r\n",
        "from keras.utils import to_categorical\r\n",
        "import os\r\n",
        "import cv2"
      ],
      "execution_count": 2,
      "outputs": []
    },
    {
      "cell_type": "code",
      "metadata": {
        "colab": {
          "base_uri": "https://localhost:8080/",
          "height": 303
        },
        "id": "eLTI-LROXL-j",
        "outputId": "61bb299e-f149-4c41-d5ce-e39fa71ffedb"
      },
      "source": [
        "#image data shape (n, width, height, rgb value)\r\n",
        "\r\n",
        "X = [] # Images\r\n",
        "Y = [] # Categories\r\n",
        "\r\n",
        "folder_pedestrian = 'pedestrian'\r\n",
        "folder_road = 'road'\r\n",
        "\r\n",
        "name_encode = {\"pedestrian\":0, \"road\":1}\r\n",
        "\r\n",
        "def images_to_array(folder, name):\r\n",
        "    for image in os.listdir(folder):\r\n",
        "        loaded_image = Image.open(os.path.join(folder, image))  #loading image\r\n",
        "        resized_image = Image.Image.resize(loaded_image, [100,100]) #resize image to 100 x 100 px\r\n",
        "        image_array = np.array(resized_image) # transform image into an array\r\n",
        "        X.append(image_array) # append images to array X\r\n",
        "        Y.append(name_encode[name]) #append category\r\n",
        "\r\n",
        "        image_flipped = cv2.flip(image_array,1) #create copies of images flipped horizontally to improve model accuracy\r\n",
        "        X.append(image_flipped)\r\n",
        "        Y.append(name_encode[name])\r\n",
        "\r\n",
        "        image_blurred = cv2.blur(image_array,(2,2)) #create copies of images blurred to improve accuracy\r\n",
        "        X.append(image_blurred)\r\n",
        "        Y.append(name_encode[name])\r\n",
        "\r\n",
        "        image_flipped_blurred = cv2.blur(image_flipped,(2,2)) #create copies of images flipped horizontally & blurred to improve accuracy\r\n",
        "        X.append(image_flipped_blurred)\r\n",
        "        Y.append(name_encode[name])\r\n",
        "\r\n",
        "def show_image(index):\r\n",
        "    plt.imshow(X[index])\r\n",
        "    plt.show()\r\n",
        "    print(Y[index])\r\n",
        "\r\n",
        "images_to_array(folder_pedestrian, \"pedestrian\")\r\n",
        "images_to_array(folder_road, \"road\")\r\n",
        "\r\n",
        "Y = to_categorical(Y, num_classes=2)\r\n",
        "X = (np.array(X) - 127.5) / 127.5\r\n",
        "\r\n",
        "show_image(6)"
      ],
      "execution_count": 3,
      "outputs": [
        {
          "output_type": "stream",
          "text": [
            "Clipping input data to the valid range for imshow with RGB data ([0..1] for floats or [0..255] for integers).\n"
          ],
          "name": "stderr"
        },
        {
          "output_type": "display_data",
          "data": {
            "image/png": "[encoded data removed]",
            "text/plain": [
              "<Figure size 432x288 with 1 Axes>"
            ]
          },
          "metadata": {
            "tags": [],
            "needs_background": "light"
          }
        },
        {
          "output_type": "stream",
          "text": [
            "[1. 0.]\n"
          ],
          "name": "stdout"
        }
      ]
    },
    {
      "cell_type": "code",
      "metadata": {
        "colab": {
          "base_uri": "https://localhost:8080/"
        },
        "id": "_fVgWisEoc5_",
        "outputId": "a9aca745-06e6-41a9-a7d0-a4b08f8b60d9"
      },
      "source": [
        "from keras.layers import Activation, Conv2D, Dense, Flatten, MaxPool2D, BatchNormalization, Dropout\r\n",
        "from keras.models import Sequential\r\n",
        "\r\n",
        "model = Sequential()\r\n",
        "model.add(Conv2D(32, (5,5), padding='same',activation='relu', input_shape=(100,100,3) ))\r\n",
        "model.add(BatchNormalization())\r\n",
        "model.add(MaxPool2D(pool_size=(2,2)))\r\n",
        "model.add(Conv2D(100, (5,5), padding='same',activation='relu'))\r\n",
        "model.add(BatchNormalization())\r\n",
        "model.add(Dropout(rate=0.5)) # muting half of trainable parameters\r\n",
        "model.add(MaxPool2D(pool_size=(2,2)))\r\n",
        "model.add(Conv2D(100, (5,5), padding='same',activation='relu'))\r\n",
        "model.add(BatchNormalization())\r\n",
        "model.add(Dropout(rate=0.5)) \r\n",
        "model.add(MaxPool2D(pool_size=(2,2)))\r\n",
        "model.add(Flatten())\r\n",
        "model.add(Dense(124))\r\n",
        "model.add(Activation('relu'))\r\n",
        "model.add(Dense(2))\r\n",
        "model.add(Activation('sigmoid'))\r\n",
        "model.summary()"
      ],
      "execution_count": 4,
      "outputs": [
        {
          "output_type": "stream",
          "text": [
            "Model: \"sequential\"\n",
            "_________________________________________________________________\n",
            "Layer (type)                 Output Shape              Param #   \n",
            "=================================================================\n",
            "conv2d (Conv2D)              (None, 100, 100, 32)      2432      \n",
            "_________________________________________________________________\n",
            "batch_normalization (BatchNo (None, 100, 100, 32)      128       \n",
            "_________________________________________________________________\n",
            "max_pooling2d (MaxPooling2D) (None, 50, 50, 32)        0         \n",
            "_________________________________________________________________\n",
            "conv2d_1 (Conv2D)            (None, 50, 50, 100)       80100     \n",
            "_________________________________________________________________\n",
            "batch_normalization_1 (Batch (None, 50, 50, 100)       400       \n",
            "_________________________________________________________________\n",
            "dropout (Dropout)            (None, 50, 50, 100)       0         \n",
            "_________________________________________________________________\n",
            "max_pooling2d_1 (MaxPooling2 (None, 25, 25, 100)       0         \n",
            "_________________________________________________________________\n",
            "conv2d_2 (Conv2D)            (None, 25, 25, 100)       250100    \n",
            "_________________________________________________________________\n",
            "batch_normalization_2 (Batch (None, 25, 25, 100)       400       \n",
            "_________________________________________________________________\n",
            "dropout_1 (Dropout)          (None, 25, 25, 100)       0         \n",
            "_________________________________________________________________\n",
            "max_pooling2d_2 (MaxPooling2 (None, 12, 12, 100)       0         \n",
            "_________________________________________________________________\n",
            "flatten (Flatten)            (None, 14400)             0         \n",
            "_________________________________________________________________\n",
            "dense (Dense)                (None, 124)               1785724   \n",
            "_________________________________________________________________\n",
            "activation (Activation)      (None, 124)               0         \n",
            "_________________________________________________________________\n",
            "dense_1 (Dense)              (None, 2)                 250       \n",
            "_________________________________________________________________\n",
            "activation_1 (Activation)    (None, 2)                 0         \n",
            "=================================================================\n",
            "Total params: 2,119,534\n",
            "Trainable params: 2,119,070\n",
            "Non-trainable params: 464\n",
            "_________________________________________________________________\n"
          ],
          "name": "stdout"
        }
      ]
    },
    {
      "cell_type": "code",
      "metadata": {
        "colab": {
          "base_uri": "https://localhost:8080/"
        },
        "id": "fSzb_yjF-JO7",
        "outputId": "779b01ae-1cd1-4817-9ab7-095d56612716"
      },
      "source": [
        "from sklearn.model_selection import train_test_split\r\n",
        "X_train, X_test, y_train, y_test = train_test_split(X,Y,test_size=0.1)\r\n",
        "\r\n",
        "print(X[2])"
      ],
      "execution_count": 5,
      "outputs": [
        {
          "output_type": "stream",
          "text": [
            "[[[-0.89803922 -0.89019608 -0.8745098 ]\n",
            "  [-0.89803922 -0.89019608 -0.8745098 ]\n",
            "  [-0.78823529 -0.77254902 -0.76470588]\n",
            "  ...\n",
            "  [-0.36470588 -0.27843137 -0.24705882]\n",
            "  [-0.50588235 -0.42745098 -0.39607843]\n",
            "  [-0.52156863 -0.45882353 -0.41960784]]\n",
            "\n",
            " [[-0.89803922 -0.89019608 -0.8745098 ]\n",
            "  [-0.89803922 -0.89019608 -0.8745098 ]\n",
            "  [-0.78823529 -0.77254902 -0.76470588]\n",
            "  ...\n",
            "  [-0.36470588 -0.27843137 -0.24705882]\n",
            "  [-0.50588235 -0.42745098 -0.39607843]\n",
            "  [-0.52156863 -0.45882353 -0.41960784]]\n",
            "\n",
            " [[-0.81176471 -0.80392157 -0.76470588]\n",
            "  [-0.81176471 -0.80392157 -0.76470588]\n",
            "  [-0.76470588 -0.75686275 -0.7254902 ]\n",
            "  ...\n",
            "  [-0.44313725 -0.35686275 -0.3254902 ]\n",
            "  [-0.50588235 -0.42745098 -0.38823529]\n",
            "  [-0.40392157 -0.3254902  -0.29411765]]\n",
            "\n",
            " ...\n",
            "\n",
            " [[-0.42745098 -0.34901961 -0.34901961]\n",
            "  [-0.42745098 -0.34901961 -0.34901961]\n",
            "  [-0.42745098 -0.37254902 -0.37254902]\n",
            "  ...\n",
            "  [-0.57647059 -0.52941176 -0.49803922]\n",
            "  [-0.49803922 -0.43529412 -0.41176471]\n",
            "  [-0.3254902  -0.28627451 -0.28627451]]\n",
            "\n",
            " [[-0.4745098  -0.38039216 -0.39607843]\n",
            "  [-0.4745098  -0.38039216 -0.39607843]\n",
            "  [-0.55294118 -0.49803922 -0.49803922]\n",
            "  ...\n",
            "  [-0.45098039 -0.40392157 -0.37254902]\n",
            "  [-0.40392157 -0.34117647 -0.31764706]\n",
            "  [-0.37254902 -0.31764706 -0.31764706]]\n",
            "\n",
            " [[-0.49803922 -0.40392157 -0.40392157]\n",
            "  [-0.49803922 -0.40392157 -0.40392157]\n",
            "  [-0.70196078 -0.64705882 -0.63921569]\n",
            "  ...\n",
            "  [-0.30980392 -0.27843137 -0.23921569]\n",
            "  [-0.36470588 -0.30980392 -0.30196078]\n",
            "  [-0.30980392 -0.25490196 -0.27843137]]]\n"
          ],
          "name": "stdout"
        }
      ]
    },
    {
      "cell_type": "code",
      "metadata": {
        "colab": {
          "base_uri": "https://localhost:8080/",
          "height": 677
        },
        "id": "XnZGzZwfAKfq",
        "outputId": "232fc834-b767-4d57-8c23-115b90a831bc"
      },
      "source": [
        "from keras.optimizers import Adam\r\n",
        "\r\n",
        "optimizer = Adam(lr=0.001)\r\n",
        "model.compile(optimizer=optimizer, loss='binary_crossentropy', metrics=['acc'])\r\n",
        "h = model.fit(X_train, y_train, batch_size=10, epochs=10, validation_data=(X_test,y_test))\r\n",
        "model.save('road_pedestrian_CNN.h5')\r\n",
        "\r\n",
        "plt.plot(h.history['acc'])\r\n",
        "plt.plot(h.history['val_acc'])\r\n",
        "plt.title(\"CNN Accuracy: Train and Test\")\r\n",
        "plt.xlabel('Epoch Number')\r\n",
        "plt.ylabel('Accuracy')\r\n",
        "plt.legend(loc='lower right')\r\n"
      ],
      "execution_count": 6,
      "outputs": [
        {
          "output_type": "stream",
          "text": [
            "Epoch 1/10\n",
            "36/36 [==============================] - 27s 727ms/step - loss: 2.3156 - acc: 0.8424 - val_loss: 5.3320 - val_acc: 0.4000\n",
            "Epoch 2/10\n",
            "36/36 [==============================] - 26s 712ms/step - loss: 0.9080 - acc: 0.9319 - val_loss: 11.5799 - val_acc: 0.4000\n",
            "Epoch 3/10\n",
            "36/36 [==============================] - 26s 710ms/step - loss: 0.0072 - acc: 0.9970 - val_loss: 10.1835 - val_acc: 0.4000\n",
            "Epoch 4/10\n",
            "36/36 [==============================] - 26s 710ms/step - loss: 0.0147 - acc: 0.9967 - val_loss: 12.0747 - val_acc: 0.4000\n",
            "Epoch 5/10\n",
            "36/36 [==============================] - 26s 710ms/step - loss: 0.3292 - acc: 0.9567 - val_loss: 12.1320 - val_acc: 0.5000\n",
            "Epoch 6/10\n",
            "36/36 [==============================] - 26s 716ms/step - loss: 0.0321 - acc: 0.9964 - val_loss: 12.5755 - val_acc: 0.5500\n",
            "Epoch 7/10\n",
            "36/36 [==============================] - 26s 713ms/step - loss: 0.0533 - acc: 0.9879 - val_loss: 5.7900 - val_acc: 0.6250\n",
            "Epoch 8/10\n",
            "36/36 [==============================] - 26s 713ms/step - loss: 0.0465 - acc: 0.9912 - val_loss: 3.7568 - val_acc: 0.7500\n",
            "Epoch 9/10\n",
            "36/36 [==============================] - 26s 710ms/step - loss: 0.0046 - acc: 0.9988 - val_loss: 2.9916 - val_acc: 0.8000\n",
            "Epoch 10/10\n",
            "36/36 [==============================] - 26s 713ms/step - loss: 0.0012 - acc: 1.0000 - val_loss: 0.8922 - val_acc: 0.9250\n"
          ],
          "name": "stdout"
        },
        {
          "output_type": "stream",
          "text": [
            "No handles with labels found to put in legend.\n"
          ],
          "name": "stderr"
        },
        {
          "output_type": "execute_result",
          "data": {
            "text/plain": [
              "<matplotlib.legend.Legend at 0x7f4e43a2ad90>"
            ]
          },
          "metadata": {
            "tags": []
          },
          "execution_count": 6
        },
        {
          "output_type": "display_data",
          "data": {
            "image/png": "[encoded data removed]",
            "text/plain": [
              "<Figure size 432x288 with 1 Axes>"
            ]
          },
          "metadata": {
            "tags": [],
            "needs_background": "light"
          }
        }
      ]
    },
    {
      "cell_type": "code",
      "metadata": {
        "id": "RJftlufpAeyc"
      },
      "source": [
        ""
      ],
      "execution_count": 6,
      "outputs": []
    }
  ]
}